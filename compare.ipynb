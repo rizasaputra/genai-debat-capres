{
 "cells": [
  {
   "cell_type": "markdown",
   "id": "22c8fda2-f1bd-4342-aad4-0a544e000f70",
   "metadata": {},
   "source": [
    "# Compare LLMs for Different Purposes"
   ]
  },
  {
   "cell_type": "markdown",
   "id": "9864ecc2-4b6d-4e09-8b96-caafd2529df1",
   "metadata": {},
   "source": [
    "## Basic setup"
   ]
  },
  {
   "cell_type": "code",
   "execution_count": 2,
   "id": "32e44329-ad54-44ef-929c-3ddebb0c2193",
   "metadata": {
    "tags": []
   },
   "outputs": [
    {
     "name": "stdout",
     "output_type": "stream",
     "text": [
      "\u001b[31mERROR: pip's dependency resolver does not currently take into account all the packages that are installed. This behaviour is the source of the following dependency conflicts.\n",
      "awscli 1.31.9 requires botocore==1.33.9, but you have botocore 1.34.15 which is incompatible.\n",
      "awscli 1.31.9 requires s3transfer<0.9.0,>=0.8.0, but you have s3transfer 0.10.0 which is incompatible.\n",
      "distributed 2022.7.0 requires tornado<6.2,>=6.0.3, but you have tornado 6.4 which is incompatible.\n",
      "sagemaker 2.199.0 requires urllib3<1.27, but you have urllib3 2.0.7 which is incompatible.\u001b[0m\u001b[31m\n",
      "\u001b[0m\u001b[33mWARNING: Running pip as the 'root' user can result in broken permissions and conflicting behaviour with the system package manager. It is recommended to use a virtual environment instead: https://pip.pypa.io/warnings/venv\u001b[0m\u001b[33m\n",
      "\u001b[0m\n",
      "\u001b[1m[\u001b[0m\u001b[34;49mnotice\u001b[0m\u001b[1;39;49m]\u001b[0m\u001b[39;49m A new release of pip is available: \u001b[0m\u001b[31;49m23.3.1\u001b[0m\u001b[39;49m -> \u001b[0m\u001b[32;49m23.3.2\u001b[0m\n",
      "\u001b[1m[\u001b[0m\u001b[34;49mnotice\u001b[0m\u001b[1;39;49m]\u001b[0m\u001b[39;49m To update, run: \u001b[0m\u001b[32;49mpip install --upgrade pip\u001b[0m\n"
     ]
    }
   ],
   "source": [
    "!pip install -q -U google-generativeai openai boto3"
   ]
  },
  {
   "cell_type": "code",
   "execution_count": 3,
   "id": "abb3a5e7-9773-4cbc-800b-f49dd371abdd",
   "metadata": {
    "tags": []
   },
   "outputs": [],
   "source": [
    "#open text file in read mode\n",
    "file = open(\"./transkrip3.xml\", \"r\")\n",
    " \n",
    "#read whole file to a string\n",
    "transcript = file.read()\n",
    " \n",
    "#close file\n",
    "file.close()"
   ]
  },
  {
   "cell_type": "code",
   "execution_count": null,
   "id": "28cdfcf1-bbed-4bf6-a263-abad73dda2c1",
   "metadata": {},
   "outputs": [],
   "source": [
    "# print(transcript)"
   ]
  },
  {
   "cell_type": "code",
   "execution_count": 4,
   "id": "35200a66-750e-4764-a74a-e04f2105c960",
   "metadata": {
    "tags": []
   },
   "outputs": [],
   "source": [
    "system_prompt = f\"\"\"\n",
    "Berikut ini adalah transkrip dari debat antar calon presiden Indonesia sebagai referensi:\n",
    "\n",
    "{transcript}\n",
    "\n",
    "Kamu adalah seorang analis politik yang independen dan netral. \n",
    "Tugasmu adalah menjawab pertanyaan tentang debat calon presiden, dan tidak menjawab hal yang tidak terkait.\n",
    "Gunakan transkrip debat di atas sebagai referensi. \n",
    "\"\"\""
   ]
  },
  {
   "cell_type": "code",
   "execution_count": null,
   "id": "5ac2d509-9faf-450e-84a9-29b3e45866ac",
   "metadata": {
    "tags": []
   },
   "outputs": [],
   "source": [
    "%env OPENAI_API_KEY=\n",
    "%env GOOGLE_API_KEY=\n",
    "%env AWS_ACCESS_KEY_ID=\n",
    "%env AWS_SECRET_ACCESS_KEY="
   ]
  },
  {
   "cell_type": "code",
   "execution_count": 5,
   "id": "2a7de7e4-abb7-418e-81c4-7f34ca93998b",
   "metadata": {
    "tags": []
   },
   "outputs": [],
   "source": [
    "import boto3\n",
    "import json\n",
    "\n",
    "bedrock = boto3.client(\n",
    "  service_name='bedrock-runtime', \n",
    "  region_name=\"us-west-2\"\n",
    ")"
   ]
  },
  {
   "cell_type": "code",
   "execution_count": 7,
   "id": "696189ea-ced5-4c1a-bd75-5c300cb7c039",
   "metadata": {
    "tags": []
   },
   "outputs": [],
   "source": [
    "import os\n",
    "from openai import OpenAI\n",
    "openai = OpenAI()"
   ]
  },
  {
   "cell_type": "code",
   "execution_count": null,
   "id": "3e47e3c7-bff6-445e-abb3-d74af0b11d03",
   "metadata": {
    "tags": []
   },
   "outputs": [],
   "source": [
    "import google.generativeai as genai\n",
    "\n",
    "genai.configure(api_key=os.getenv('GOOGLE_API_KEY'))\n",
    "gemini = genai.GenerativeModel('gemini-pro')\n"
   ]
  },
  {
   "cell_type": "code",
   "execution_count": 8,
   "id": "ee5a4812-0589-4156-a3db-7d7c9a399eb9",
   "metadata": {
    "tags": []
   },
   "outputs": [],
   "source": [
    "def query(llm, prompt):\n",
    "    max_output_tokens = 4096\n",
    "    temperature = 0.1\n",
    "    \n",
    "    if llm == 'claude':\n",
    "        enclosed_prompt = system_prompt + \"\\n\\nHuman: \" + prompt + \"\\n\\nAssistant:\"\n",
    "\n",
    "        body = {\n",
    "            \"prompt\": enclosed_prompt,\n",
    "            \"max_tokens_to_sample\": max_output_tokens,\n",
    "            \"temperature\": temperature,\n",
    "            \"stop_sequences\": [\"\\n\\nHuman:\"],\n",
    "        }\n",
    "\n",
    "        response = bedrock.invoke_model(\n",
    "            modelId=\"anthropic.claude-v2:1\", body=json.dumps(body)\n",
    "        )\n",
    "\n",
    "        response_body = json.loads(response[\"body\"].read())\n",
    "        completion = response_body.get(\"completion\")\n",
    "        \n",
    "        return completion\n",
    "    \n",
    "    elif llm == 'gpt4':\n",
    "        gpt_assistant_prompt = system_prompt\n",
    "        gpt_user_prompt = prompt \n",
    "        gpt_prompt = gpt_assistant_prompt, gpt_user_prompt\n",
    "        \n",
    "        message=[{\"role\": \"assistant\", \"content\": gpt_assistant_prompt}, {\"role\": \"user\", \"content\": gpt_user_prompt}]\n",
    "\n",
    "        response = openai.chat.completions.create(\n",
    "            model=\"gpt-4-1106-preview\",\n",
    "            messages = message,\n",
    "            temperature=temperature,\n",
    "            max_tokens=max_output_tokens,\n",
    "            frequency_penalty=0.0\n",
    "        )\n",
    "        return response.choices[0].message.content\n",
    "    \n",
    "    elif llm == 'gemini':\n",
    "        gemini_prompt = system_prompt + \"\\n\\n\" + prompt + \"\\n\\n\"\n",
    "        \n",
    "        gemini.generate_content(\n",
    "            gemini_prompt,\n",
    "            generation_config=genai.types.GenerationConfig(\n",
    "                max_output_tokens=max_output_tokens,\n",
    "                temperature=temperature)\n",
    "        )\n",
    "        return\n",
    "    \n",
    "    else:\n",
    "        return \"LLM not supported\""
   ]
  },
  {
   "cell_type": "markdown",
   "id": "8a9cf178-be46-45cb-af09-92cc48f920bc",
   "metadata": {},
   "source": [
    "## Summarization"
   ]
  },
  {
   "cell_type": "code",
   "execution_count": 9,
   "id": "8181cce9-594b-4c46-84a2-f5fe3e30e7e7",
   "metadata": {
    "tags": []
   },
   "outputs": [],
   "source": [
    "prompt = \"Apa rangkuman gagasan dari masing-masing calon presiden?\""
   ]
  },
  {
   "cell_type": "code",
   "execution_count": 10,
   "id": "b9013a8d-8edf-4728-9c35-42178d0611f2",
   "metadata": {
    "tags": []
   },
   "outputs": [],
   "source": [
    "claude_sum = query(\"claude\", prompt)"
   ]
  },
  {
   "cell_type": "code",
   "execution_count": 11,
   "id": "7d9d6123-3777-40a6-a396-c7565532843c",
   "metadata": {
    "tags": []
   },
   "outputs": [
    {
     "data": {
      "text/plain": [
       "' Berdasarkan transkrip debat calon presiden, berikut adalah rangkuman gagasan utama dari masing-masing calon:\\n\\nAnies Baswedan:\\n- Memprioritaskan keamanan setiap keluarga dan setiap jengkal tanah Indonesia. \\n- Meningkatkan kesejahteraan TNI, Polri, dan ASN pertahanan.\\n- Indonesia harus menjadi kekuatan yang disegani di kancah internasional. \\n- Presiden sebagai panglima diplomasi Indonesia.\\n- Konsisten memperjuangkan penghapusan penjajahan, khususnya di Palestina.\\n\\nGanjar Pranowo:\\n- Mendorong pertumbuhan ekonomi 7% untuk meningkatkan anggaran pertahanan.\\n- Mengutamakan industri pertahanan dalam negeri. \\n- Memperkuat alutsista dan cyber defense.\\n- Meningkatkan anggaran pertahanan hingga 2% dari PDB.\\n- Membangun Garda Samudra dan memodernisasi alutsista TNI.\\n\\nPrabowo Subianto:\\n- Mempertahankan politik luar negeri bebas-aktif dan non-blok.\\n- Membangun industri pertahanan dalam negeri.\\n- Meningkatkan anggaran pertahanan dan kualitas alutsista.\\n- Memperbaiki kesejahteraan TNI, Polri dan ASN. \\n- Mempertahankan TNI dan Polri berada di bawah kendali presiden.'"
      ]
     },
     "execution_count": 11,
     "metadata": {},
     "output_type": "execute_result"
    }
   ],
   "source": [
    "claude_sum"
   ]
  },
  {
   "cell_type": "code",
   "execution_count": 12,
   "id": "39f57e4b-5a61-44e6-aa15-726e0bba4867",
   "metadata": {
    "tags": []
   },
   "outputs": [],
   "source": [
    "gpt4_sum = query(\"gpt4\", prompt)"
   ]
  },
  {
   "cell_type": "code",
   "execution_count": 13,
   "id": "40566394-3c24-46ed-a40b-0da0164375e0",
   "metadata": {
    "tags": []
   },
   "outputs": [
    {
     "data": {
      "text/plain": [
       "'Berikut adalah rangkuman gagasan dari masing-masing calon presiden berdasarkan transkrip debat yang disediakan:\\n\\n**Ganjar:**\\n- Menekankan pentingnya politik luar negeri yang bebas aktif dan disesuaikan dengan kondisi kekinian, dengan fokus pada kepentingan ekonomi nasional.\\n- Mendorong sistem pertahanan rakyat semesta yang kuat dan modern, termasuk pengembangan teknologi pertahanan 5.0 seperti rudal hipersonik dan senjata cyber.\\n- Menyatakan kebutuhan reformasi kepolisian untuk mengantisipasi ancaman terorisme, narkoba, dan kejahatan siber.\\n- Menekankan pentingnya pertumbuhan ekonomi 7% dan alokasi anggaran pertahanan hingga 2% dari PDB.\\n- Menyarankan penggunaan teknologi digital untuk mempromosikan budaya Indonesia dan mendukung pertumbuhan ekonomi nasional.\\n\\n**Anies:**\\n- Menyatakan komitmen untuk mengembalikan posisi Indonesia sebagai pelaku utama di kancah global, bukan hanya sebagai penonton.\\n- Menekankan pentingnya film, seni, dan kuliner Indonesia dalam mempengaruhi kancah internasional.\\n- Menyatakan bahwa Presiden harus menjadi panglima diplomasi Indonesia, dengan fokus pada penghapusan penjajahan di muka bumi, khususnya dukungan untuk Palestina.\\n- Menekankan pentingnya membangun sistem pertahanan cyber yang komprehensif dan melibatkan seluruh lembaga dan komponen masyarakat.\\n- Menyatakan bahwa anggaran pertahanan ideal untuk Indonesia adalah maksimal 30% dari GDP.\\n\\n**Prabowo:**\\n- Menekankan pentingnya melindungi bangsa dan tumpah darah Indonesia sebagai tujuan nasional utama.\\n- Menyatakan bahwa politik luar negeri Indonesia harus tetap bebas aktif dan non blok, dengan hubungan baik dengan semua kekuatan.\\n- Menyatakan bahwa hanya dengan pertahanan yang kuat, Indonesia akan dihormati dan dapat menjaga kepentingan nasionalnya.\\n- Menyatakan bahwa kekuatan militer adalah bagian penting dari kekuatan nasional dan harus dibangun.\\n- Menyatakan bahwa anggaran pertahanan yang ada sudah cukup dan tidak perlu ditingkatkan secara signifikan.\\n\\nSetiap calon memiliki pendekatan yang berbeda terhadap isu-isu pertahanan, keamanan, dan politik luar negeri, dengan fokus pada penguatan posisi Indonesia baik di kancah nasional maupun internasional.'"
      ]
     },
     "execution_count": 13,
     "metadata": {},
     "output_type": "execute_result"
    }
   ],
   "source": [
    "gpt4_sum"
   ]
  },
  {
   "cell_type": "code",
   "execution_count": null,
   "id": "f920303d-fc94-441a-9f7a-910402ffaa7f",
   "metadata": {
    "tags": []
   },
   "outputs": [],
   "source": [
    "# Keep getting error\n",
    "# _InactiveRpcError: <_InactiveRpcError of RPC that terminated with:\n",
    "# \tstatus = StatusCode.INTERNAL\n",
    "# \tdetails = \"An internal error has occurred. Please retry or report in https://developers.generativeai.google/guide/troubleshooting\"\n",
    "# \tdebug_error_string = \"UNKNOWN:Error received from peer ipv4:142.250.69.202:443 {grpc_message:\"An internal error has occurred. Please retry or report in https://developers.generativeai.google/guide/troubleshooting\", grpc_status:13, created_time:\"2024-01-10T09:14:02.817055982+00:00\"}\"\n",
    "# >\n",
    "\n",
    "# gemini_sum = query(\"gemini\", prompt)"
   ]
  },
  {
   "cell_type": "markdown",
   "id": "7f385b02-6e4d-4355-970d-f9100fbea6a8",
   "metadata": {},
   "source": [
    "## Question Answering"
   ]
  },
  {
   "cell_type": "markdown",
   "id": "0b492c20-e447-4c10-9804-2331da96609b",
   "metadata": {},
   "source": [
    "### Beginning of text"
   ]
  },
  {
   "cell_type": "code",
   "execution_count": 14,
   "id": "867d7422-910c-4545-9fd9-e821e4fb2557",
   "metadata": {
    "tags": []
   },
   "outputs": [],
   "source": [
    "prompt = \"Berapa anggaran Kemenhan yang diperlukan menurut Ganjar?\"\n",
    "# expected answer 1-2% from PDB"
   ]
  },
  {
   "cell_type": "code",
   "execution_count": 15,
   "id": "bfec4e90-0da9-4f8e-8915-243cfa56f62e",
   "metadata": {
    "tags": []
   },
   "outputs": [
    {
     "data": {
      "text/plain": [
       "' Berdasarkan transkrip debat calon presiden, Ganjar menyatakan bahwa anggaran Kemenhan sebaiknya naik 1-2% dari PDB. Hal ini dinyatakannya dalam subsesi 4-3 sebagai berikut:\\n\\n\"Pak Ganjar mengatakan bahwa anggaran pertahanan kita sebaiknya naik 1-2% dan bahwa kita harus membangun industri pertahanan dalam negeri yang kita utamakan.\"\\n\\nJadi menurut Ganjar, anggaran Kemenhan yang diperlukan adalah 1-2% dari PDB.'"
      ]
     },
     "execution_count": 15,
     "metadata": {},
     "output_type": "execute_result"
    }
   ],
   "source": [
    "claude_1 = query(\"claude\", prompt)\n",
    "claude_1"
   ]
  },
  {
   "cell_type": "code",
   "execution_count": 16,
   "id": "fd3c4a86-2c54-4a4f-85ca-d94a2a5084a6",
   "metadata": {
    "tags": []
   },
   "outputs": [
    {
     "data": {
      "text/plain": [
       "'Menurut Ganjar, anggaran Kementerian Pertahanan (Kemenhan) yang diperlukan adalah 1-2% dari Produk Domestik Bruto (PDB) untuk memperkuat sistem pertahanan Indonesia. Ini disampaikan dalam sesi debat ketika Ganjar menyampaikan visi misinya terkait dengan pertahanan negara.'"
      ]
     },
     "execution_count": 16,
     "metadata": {},
     "output_type": "execute_result"
    }
   ],
   "source": [
    "gpt_1 = query(\"gpt4\", prompt)\n",
    "gpt_1"
   ]
  },
  {
   "cell_type": "code",
   "execution_count": 18,
   "id": "df5aabf8-fe32-4955-bff8-a564365a90cd",
   "metadata": {
    "tags": []
   },
   "outputs": [],
   "source": [
    "prompt = \"Apakah ada kementrian yang dibobol hacker pada 2023?\"\n",
    "# expected answer: yes, kemenhan"
   ]
  },
  {
   "cell_type": "code",
   "execution_count": 19,
   "id": "1772f039-2c52-48fe-82d2-1051387abd79",
   "metadata": {
    "tags": []
   },
   "outputs": [
    {
     "data": {
      "text/plain": [
       "' Berdasarkan transkrip debat calon presiden, tidak ada informasi yang menyebutkan bahwa ada kementerian yang dibobol hacker pada tahun 2023.\\n\\nYang menyebutkan tentang hacking adalah pernyataan Anies Baswedan pada sesi 2:\\n\\n\"Ini adalah ancaman non-tradisional yang makin hari makin nyata dirasakan di Indonesia. Kita merasakan keluarga-keluarga kita, HP, komputer menghadapi tantangan hacking.\"\\n\\nNamun tidak ada pernyataan yang secara eksplisit menyebutkan bahwa ada kementerian yang dibobol hacker pada tahun 2023.'"
      ]
     },
     "execution_count": 19,
     "metadata": {},
     "output_type": "execute_result"
    }
   ],
   "source": [
    "claude_2 = query(\"claude\", prompt)\n",
    "claude_2"
   ]
  },
  {
   "cell_type": "code",
   "execution_count": 20,
   "id": "7bf3369d-669b-4cbe-b647-1626930530a5",
   "metadata": {
    "tags": []
   },
   "outputs": [
    {
     "data": {
      "text/plain": [
       "'Berdasarkan transkrip debat calon presiden yang disediakan, Anies Baswedan menyebutkan bahwa Kementerian Pertahanan Indonesia menjadi kementerian yang dibobol oleh hacker pada tahun 2023. Ini disampaikan dalam konteks kritik terhadap pengelolaan keamanan siber di Indonesia.'"
      ]
     },
     "execution_count": 20,
     "metadata": {},
     "output_type": "execute_result"
    }
   ],
   "source": [
    "gpt_2 = query(\"gpt4\", prompt)\n",
    "gpt_2"
   ]
  },
  {
   "cell_type": "code",
   "execution_count": 21,
   "id": "5de93ddf-e715-430c-9efc-25a9f42df4b7",
   "metadata": {
    "tags": []
   },
   "outputs": [],
   "source": [
    "prompt = \"Bagaimana rencana Prabowo untuk mengamankan kepentingan nasional?\"\n",
    "# expected answer: menjalin hubungan baik dengan semua kekuatan"
   ]
  },
  {
   "cell_type": "code",
   "execution_count": 22,
   "id": "4e42e722-29ac-4ea9-9758-e40c52537ba9",
   "metadata": {
    "tags": []
   },
   "outputs": [
    {
     "data": {
      "text/plain": [
       "' Berdasarkan transkrip debat calon presiden, Prabowo menyatakan bahwa untuk mengamankan kepentingan nasional, ia bertekad untuk:\\n\\n1. Melanjutkan politik luar negeri Indonesia yang bebas aktif dan non-blok. Hal ini untuk menjaga hubungan baik dengan semua negara.\\n\\n2. Menjalin kerja sama ekonomi dengan berbagai negara.\\n\\n3. Membangun pertahanan yang kuat agar Indonesia tidak dapat diintervensi, digertak, atau diintimidasi oleh negara lain. Dengan pertahanan yang kuat, Indonesia dapat mengamankan kekayaan alam dan pembangunan ekonominya.\\n\\n4. Meningkatkan kesejahteraan prajurit TNI dan Polri agar mereka dapat menjaga pertahanan dan keamanan Indonesia dengan lebih baik.\\n\\nItulah beberapa hal yang disampaikan Prabowo terkait rencananya untuk mengamankan kepentingan nasional Indonesia.'"
      ]
     },
     "execution_count": 22,
     "metadata": {},
     "output_type": "execute_result"
    }
   ],
   "source": [
    "claude_3 = query(\"claude\", prompt)\n",
    "claude_3"
   ]
  },
  {
   "cell_type": "code",
   "execution_count": 23,
   "id": "6f1936bf-adea-4ff4-b6fe-cca615b9cc87",
   "metadata": {
    "tags": []
   },
   "outputs": [
    {
     "data": {
      "text/plain": [
       "'Dalam debat tersebut, Prabowo menyampaikan beberapa poin terkait dengan rencananya untuk mengamankan kepentingan nasional, antara lain:\\n\\n1. **Pertahanan yang Kuat**: Prabowo menekankan pentingnya memiliki pertahanan yang kuat untuk melindungi bangsa dan menjaga kekayaan alam Indonesia. Ia menyatakan bahwa hanya dengan pertahanan yang kuat, Indonesia akan dihormati dan dapat menjaga kepentingan nasionalnya.\\n\\n2. **Politik Luar Negeri Bebas Aktif**: Prabowo berkomitmen untuk melanjutkan politik luar negeri Indonesia yang bebas aktif dan non-blok, yang tidak memihak dan menjaga hubungan baik dengan semua kekuatan dunia.\\n\\n3. **Kerja Sama Ekonomi**: Ia juga menekankan pentingnya kerja sama ekonomi dengan negara lain untuk memperkuat ekonomi dalam negeri dan menjaga kekayaan nasional.\\n\\n4. **Hilirisasi**: Prabowo menyatakan pentingnya hilirisasi untuk meningkatkan nilai tambah produk dalam negeri, yang akan memperkuat posisi tawar Indonesia di kancah internasional.\\n\\n5. **Kepemimpinan di ASEAN**: Prabowo juga menyampaikan bahwa Indonesia harus menjadi pemimpin di ASEAN yang dominan, bukan hanya sebagai hadirin dalam pertemuan-pertemuan ASEAN.\\n\\n6. **Meningkatkan Kesejahteraan TNI dan Polri**: Prabowo berjanji akan memperbaiki kesejahteraan dan kualitas hidup TNI, Polri, dan ASN secara signifikan.\\n\\n7. **Menghindari Intervensi Asing**: Prabowo menyatakan bahwa dengan manajemen yang prudent dan strategi ekonomi yang tepat, Indonesia tidak perlu khawatir akan intervensi asing akibat hutang luar negeri.\\n\\n8. **Mengutamakan Pembelian Alutsista**: Prabowo menekankan pentingnya pembelian alutsista yang sesuai dengan kebutuhan dan usia pakai, bukan hanya berdasarkan kondisi baru atau bekas.\\n\\nDari poin-poin yang disampaikan, terlihat bahwa Prabowo memiliki pendekatan yang komprehensif dalam mengamankan kepentingan nasional yang meliputi aspek pertahanan, diplomasi, ekonomi, dan kesejahteraan prajurit.'"
      ]
     },
     "execution_count": 23,
     "metadata": {},
     "output_type": "execute_result"
    }
   ],
   "source": [
    "gpt_3 = query(\"gpt4\", prompt)\n",
    "gpt_3"
   ]
  },
  {
   "cell_type": "code",
   "execution_count": 24,
   "id": "20b58144-10a2-4f80-acad-9359f81bf6ab",
   "metadata": {
    "tags": []
   },
   "outputs": [],
   "source": [
    "# some answers from GPT 4 above actually are mentioned by Anies, not Prabowo"
   ]
  },
  {
   "cell_type": "markdown",
   "id": "1c5bd93e-5f0b-4db5-bcce-992caa2c57b7",
   "metadata": {},
   "source": [
    "### Middle of text"
   ]
  },
  {
   "cell_type": "code",
   "execution_count": 25,
   "id": "78900c7c-78dc-4d9a-9143-9acf018bda25",
   "metadata": {
    "tags": []
   },
   "outputs": [],
   "source": [
    "prompt = \"Apa saja fakultas baru yang dibentuk Prabowo?\"\n",
    "# expected answer: sains, teknologi, engineering, dan matematika"
   ]
  },
  {
   "cell_type": "code",
   "execution_count": 26,
   "id": "c71c0b59-d2ae-4280-bbf4-d7f39c831c9f",
   "metadata": {
    "tags": []
   },
   "outputs": [
    {
     "data": {
      "text/plain": [
       "' Berdasarkan transkrip debat calon presiden, Prabowo menyebutkan bahwa ketika menjadi menteri pertahanan, beliau membentuk empat fakultas baru di bidang sains, teknologi, engineering, dan matematika.\\n\\nDalam transkripnya, Prabowo menyatakan:\\n\\n\"Saya begitu jadi menteri, saya membentuk empat fakultas baru di bidang sains, teknologi, engineering, dan matematika.\"\\n\\nJadi empat fakultas baru yang dibentuk Prabowo adalah:\\n\\n1. Fakultas sains\\n2. Fakultas teknologi \\n3. Fakultas engineering\\n4. Fakultas matematika\\n\\nPrabowo membentuk fakultas-fakultas tersebut untuk menyiapkan putra-putri terbaik Indonesia agar menguasai teknologi, sains, kecerdasan buatan (artificial intelligence), dan cyber.'"
      ]
     },
     "execution_count": 26,
     "metadata": {},
     "output_type": "execute_result"
    }
   ],
   "source": [
    "claude_4 = query(\"claude\", prompt)\n",
    "claude_4"
   ]
  },
  {
   "cell_type": "code",
   "execution_count": 27,
   "id": "c4940e56-ce5d-48cf-9c49-e27bfc35ae81",
   "metadata": {
    "tags": []
   },
   "outputs": [
    {
     "data": {
      "text/plain": [
       "'Dalam transkrip debat, Prabowo menyebutkan bahwa ia telah membentuk empat fakultas baru di bidang sains, teknologi, engineering, dan matematika. Namun, tidak disebutkan secara spesifik nama-nama fakultas tersebut atau detail lebih lanjut mengenai pembentukan fakultas-fakultas baru ini. Ini disampaikan oleh Prabowo dalam konteks pembahasan tentang sumber daya manusia dan pengembangan teknologi untuk pertahanan.'"
      ]
     },
     "execution_count": 27,
     "metadata": {},
     "output_type": "execute_result"
    }
   ],
   "source": [
    "gpt_4 = query(\"gpt4\", prompt)\n",
    "gpt_4"
   ]
  },
  {
   "cell_type": "code",
   "execution_count": 28,
   "id": "49b82c16-ef41-4cbb-9339-fe1e06bcbd86",
   "metadata": {
    "tags": []
   },
   "outputs": [],
   "source": [
    "prompt = \"Siapa kandidat yang berencana membangun Rumah Kebudayaan Indonesia?\"\n",
    "# expected answer: Anies"
   ]
  },
  {
   "cell_type": "code",
   "execution_count": 29,
   "id": "ecfcdac3-b215-4255-9194-659ae8a25581",
   "metadata": {
    "tags": []
   },
   "outputs": [
    {
     "data": {
      "text/plain": [
       "' Berdasarkan transkrip debat calon presiden, yang berencana membangun Rumah Kebudayaan Indonesia adalah Anies Baswedan.\\n\\nDalam Sesi 3 Subsesi 3, Anies menyatakan:\\n\\n\"Kita ingin membangun Rumah Kebudayaan Indonesia di tiap-tiap region di seluruh dunia. Sehingga di tiap-tiap region kita akan memiliki satu tempat di mana Indonesia menunjukkan karya budayanya.\"\\n\\nJadi Anies Baswedan menyatakan akan membangun Rumah Kebudayaan Indonesia di berbagai region di seluruh dunia jika terpilih menjadi presiden.'"
      ]
     },
     "execution_count": 29,
     "metadata": {},
     "output_type": "execute_result"
    }
   ],
   "source": [
    "claude_5 = query(\"claude\", prompt)\n",
    "claude_5"
   ]
  },
  {
   "cell_type": "code",
   "execution_count": 30,
   "id": "b84f5a4d-79b2-4992-ac64-17536c175d95",
   "metadata": {
    "tags": []
   },
   "outputs": [
    {
     "data": {
      "text/plain": [
       "'Kandidat yang berencana membangun Rumah Kebudayaan Indonesia di tiap-tiap region di seluruh dunia adalah Anies Baswedan. Ini disampaikan dalam sesi 3, subsesi 3-3, ketika Anies menjawab pertanyaan dari panelis tentang strategi mempromosikan budaya populer Nusantara untuk mendukung pertumbuhan ekonomi nasional.'"
      ]
     },
     "execution_count": 30,
     "metadata": {},
     "output_type": "execute_result"
    }
   ],
   "source": [
    "gpt_5 = query(\"gpt4\", prompt)\n",
    "gpt_5"
   ]
  },
  {
   "cell_type": "code",
   "execution_count": 31,
   "id": "6b4bd765-b3c3-4ac5-9f61-5bf96347face",
   "metadata": {
    "tags": []
   },
   "outputs": [],
   "source": [
    "prompt = \"Di mana Ganjar berencana membuat tank dan heli?\"\n",
    "# expected answer: Tank di Pindad, heli di PT DI"
   ]
  },
  {
   "cell_type": "code",
   "execution_count": 32,
   "id": "09bc99c2-d008-45c4-94bc-743ec4d309ec",
   "metadata": {
    "tags": []
   },
   "outputs": [
    {
     "name": "stdout",
     "output_type": "stream",
     "text": [
      "CPU times: user 63.5 ms, sys: 12.3 ms, total: 75.8 ms\n",
      "Wall time: 35.7 s\n"
     ]
    },
    {
     "data": {
      "text/plain": [
       "' Berdasarkan transkrip debat calon presiden, Ganjar tidak secara spesifik menyebutkan di mana dia berencana membuat tank dan heli. Yang dia katakan dalam debat adalah:\\n\\n\"Maka kalaulah kemudian itu bisa kita optimalkan betul-betul, rasa-rasanya, apa yang ingin kita capai dari minimum essensial forces-nya akan tercapai. Kalau kita lihat di 2024 yang rasa-rasanya agak berat bisa dicapai, maka saya khawatir makin mundur, tidak ajeg dalam perencanaan. Ini menyulitkan dan kita perlu Garda Samudra untuk mengawal Indonesia dan pertahanan sakti 5.0.\"\\n\\n\"Proporsional, Pak. Tapi tidak ada serangan yang akan masuk melalui darat karena kita negara archipelago. Maka yang mesti diperkuat hari ini adalah laut. Prioritas. Laut, mereka butuh sonar, Pak. Mereka butuh sensor-sensor, Pak. Dan hari ini mereka menyampaikan kepada saya kebutuhan itu nomor satu hari ini.\"\\n\\nJadi Ganjar tidak secara eksplisit menyebutkan lokasi pembuatan tank dan heli dalam debat ini. Dia lebih menekankan pada pentingnya memperkuat industri pertahanan dalam negeri secara umum.'"
      ]
     },
     "execution_count": 32,
     "metadata": {},
     "output_type": "execute_result"
    }
   ],
   "source": [
    "%%time\n",
    "\n",
    "claude_6 = query(\"claude\", prompt)\n",
    "claude_6"
   ]
  },
  {
   "cell_type": "code",
   "execution_count": 33,
   "id": "7fb9abf3-4744-452d-b87f-2b5e7062a9fa",
   "metadata": {
    "tags": []
   },
   "outputs": [
    {
     "name": "stdout",
     "output_type": "stream",
     "text": [
      "CPU times: user 31.2 ms, sys: 6.39 ms, total: 37.6 ms\n",
      "Wall time: 8.78 s\n"
     ]
    },
    {
     "data": {
      "text/plain": [
       "'Ganjar berencana membuat tank di Pindad dan helikopter di PT Dirgantara Indonesia (PT DI), sebagaimana disebutkan dalam transkrip debat pada sesi 4, subsesi 4-1, ketika Ganjar menjawab pertanyaan dari Anies. Ini merupakan bagian dari rencananya untuk memperkuat industri pertahanan dalam negeri Indonesia.'"
      ]
     },
     "execution_count": 33,
     "metadata": {},
     "output_type": "execute_result"
    }
   ],
   "source": [
    "%%time\n",
    "\n",
    "gpt_6 = query(\"gpt4\", prompt)\n",
    "gpt_6"
   ]
  },
  {
   "cell_type": "markdown",
   "id": "a2c23ce0-f364-4a0a-9ab8-e7606eb79a16",
   "metadata": {},
   "source": [
    "### End of text"
   ]
  },
  {
   "cell_type": "code",
   "execution_count": 34,
   "id": "706c59bd-2e31-44fc-b68f-4b19bedce3c0",
   "metadata": {
    "tags": []
   },
   "outputs": [],
   "source": [
    "prompt = \"Berapa pencapaian target MEF?\"\n",
    "# expected answer: 65,49% dari target 79%"
   ]
  },
  {
   "cell_type": "code",
   "execution_count": 35,
   "id": "d33606f4-3134-4f05-baba-f19955d2c29b",
   "metadata": {
    "tags": []
   },
   "outputs": [
    {
     "name": "stdout",
     "output_type": "stream",
     "text": [
      "CPU times: user 67.6 ms, sys: 3.13 ms, total: 70.7 ms\n",
      "Wall time: 29.2 s\n"
     ]
    },
    {
     "data": {
      "text/plain": [
       "' Berdasarkan transkrip debat calon presiden, pencapaian target Minimum Essential Force (MEF) per 2023 adalah 65,49% dari target 79%.\\n\\nHal ini disampaikan oleh Ganjar Pranowo dalam subsesi 5-3 saat bertanya kepada Prabowo Subianto:\\n\\n\"minimal saya bertanya, tadi kalau bapak, maaf, mendengarkan terakhir capaian MEF kita hanya 65,49% dari target 79%, dan ini mengkhawatirkan karena akhir tahun ini sudah harus selesai\"\\n\\nJadi pencapaian target MEF per 2023 adalah 65,49% dari target 79% menurut pernyataan Ganjar Pranowo.'"
      ]
     },
     "execution_count": 35,
     "metadata": {},
     "output_type": "execute_result"
    }
   ],
   "source": [
    "%%time\n",
    "\n",
    "claude_7 = query(\"claude\", prompt)\n",
    "claude_7"
   ]
  },
  {
   "cell_type": "code",
   "execution_count": 36,
   "id": "5901543d-559f-4b57-bb66-e3a8a043052e",
   "metadata": {
    "tags": []
   },
   "outputs": [
    {
     "name": "stdout",
     "output_type": "stream",
     "text": [
      "CPU times: user 29.5 ms, sys: 1.13 ms, total: 30.7 ms\n",
      "Wall time: 7.34 s\n"
     ]
    },
    {
     "data": {
      "text/plain": [
       "'Berdasarkan transkrip debat calon presiden yang disediakan, pencapaian target Minimum Essential Force (MEF) adalah 65,49% dari target yang seharusnya 79%.'"
      ]
     },
     "execution_count": 36,
     "metadata": {},
     "output_type": "execute_result"
    }
   ],
   "source": [
    "%%time\n",
    "\n",
    "gpt_7 = query(\"gpt4\", prompt)\n",
    "gpt_7"
   ]
  },
  {
   "cell_type": "code",
   "execution_count": 37,
   "id": "8e72bd11-dc1b-4f28-9500-22c3410dc2dd",
   "metadata": {
    "tags": []
   },
   "outputs": [],
   "source": [
    "prompt = \"Mengapa Prabowo berencana meneruskan TNI dan Polri tetap berada langsung di bawah kendali Presiden?\"\n",
    "# expected answer: untuk mempercepat reaksi dan memperpendek rentang kendali dan rentang komando"
   ]
  },
  {
   "cell_type": "code",
   "execution_count": 38,
   "id": "61160871-2044-49f0-ac7e-5b93bf35f6f7",
   "metadata": {
    "tags": []
   },
   "outputs": [
    {
     "name": "stdout",
     "output_type": "stream",
     "text": [
      "CPU times: user 56.6 ms, sys: 12.9 ms, total: 69.5 ms\n",
      "Wall time: 36.5 s\n"
     ]
    },
    {
     "data": {
      "text/plain": [
       "' Berdasarkan transkrip debat calon presiden, Prabowo menyatakan bahwa dia bertekad untuk meneruskan TNI dan Polri tetap berada langsung di bawah kendali Presiden. Alasannya adalah untuk mempercepat reaksi dan memperpendek rentang kendali dan rentang komando.\\n\\nPernyataan lengkap Prabowo adalah:\\n\\n\"Jadi saya bertekad manakala saya menerima mandat dari rakyat untuk tetap menjalankan politik bebas aktif, non blok menghormati semua negara, menjadi tetangga baik bagi semua negara di kawasan kita, menjaga jarak yang tidak terlalu jauh tapi juga tidak terlalu dekat dengan semua kekuatan, menjalin kerja sama ekonomi. Saya juga ucapkan terima kasih dan mengajak semuanya mengucapkan terima kasih kepada seluruh prajurit TNI dan Polri dan ASN di seluruh Indonesia yang telah bekerja keras untuk menjaga kita sehingga kita seperti sekarang siap untuk tinggal landas, siap untuk bangkit menjadi negara maju. Kita perlu untuk mempertahankan sistem yang sudah baik, saya akan teruskan TNI dan Polri tetap berada langsung di bawah kendali Presiden untuk mempercepat reaksi dan memperpendek rentang kendali dan rentang komando.\"\\n\\nJadi alasan utama Prabowo adalah agar reaksi lebih cepat dan rentang kendali serta komando lebih pendek dengan menempatkan TNI dan Polri langsung di bawah Presiden.'"
      ]
     },
     "execution_count": 38,
     "metadata": {},
     "output_type": "execute_result"
    }
   ],
   "source": [
    "%%time\n",
    "\n",
    "claude_8 = query(\"claude\", prompt)\n",
    "claude_8"
   ]
  },
  {
   "cell_type": "code",
   "execution_count": 39,
   "id": "61fc8bc0-d1a9-49ce-bce2-2f1dda5fd4bd",
   "metadata": {
    "tags": []
   },
   "outputs": [
    {
     "name": "stdout",
     "output_type": "stream",
     "text": [
      "CPU times: user 44.5 ms, sys: 158 µs, total: 44.6 ms\n",
      "Wall time: 16.3 s\n"
     ]
    },
    {
     "data": {
      "text/plain": [
       "'Dalam transkrip debat, Prabowo menyatakan bahwa dia bertekad, jika menerima mandat dari rakyat, untuk menjaga TNI dan Polri tetap berada langsung di bawah kendali Presiden. Alasan yang dia berikan adalah untuk mempercepat reaksi dan memperpendek rentang kendali serta rentang komando. Ini menunjukkan bahwa Prabowo memandang pentingnya efisiensi dan responsivitas dalam pengambilan keputusan dan tindakan yang berkaitan dengan pertahanan dan keamanan negara. Dengan menjaga TNI dan Polri di bawah kendali langsung Presiden, diharapkan dapat tercipta koordinasi yang lebih baik dan pengambilan keputusan yang lebih cepat dalam menghadapi situasi yang memerlukan tindakan keamanan dan pertahanan.'"
      ]
     },
     "execution_count": 39,
     "metadata": {},
     "output_type": "execute_result"
    }
   ],
   "source": [
    "%%time\n",
    "\n",
    "gpt_8 = query(\"gpt4\", prompt)\n",
    "gpt_8"
   ]
  },
  {
   "cell_type": "code",
   "execution_count": 40,
   "id": "622eddcf-aa7b-4f8b-a499-54e28d1da550",
   "metadata": {
    "tags": []
   },
   "outputs": [],
   "source": [
    "prompt = \"Menurut Anies, bagaimana cara agar Indonesia kembali menjadi kekuatan yang disegani?\"\n",
    "# expected answer: Dari pemimpin yang menjunjung tinggi etika, pemimpin yang menjunjung tinggi ilmu pengetahuan, pemimpin yang terbuka atas gagasan mempertahankan Indonesia atas ancaman-ancaman baru"
   ]
  },
  {
   "cell_type": "code",
   "execution_count": 41,
   "id": "c886ed2b-40dc-4a2c-9139-45f2c8c4c6c7",
   "metadata": {
    "tags": []
   },
   "outputs": [
    {
     "name": "stdout",
     "output_type": "stream",
     "text": [
      "CPU times: user 46.6 ms, sys: 7.07 ms, total: 53.7 ms\n",
      "Wall time: 28.1 s\n"
     ]
    },
    {
     "data": {
      "text/plain": [
       "' Berdasarkan transkrip debat calon presiden, Anies menyatakan bahwa cara agar Indonesia kembali menjadi kekuatan yang disegani adalah dengan memiliki pemimpin yang menjunjung tinggi etika dan ilmu pengetahuan, serta terbuka atas gagasan mempertahankan Indonesia atas ancaman-ancaman baru. \\n\\nAnies mengatakan dalam pernyataan penutupnya:\\n\\n\"Kita menginginkan Indonesia kembali menjadi kekuatan yang disegani dan mulainya dari mana? Dari pemimpin yang menjunjung tinggi etika, pemimpin yang menjunjung tinggi ilmu pengetahuan, pemimpin yang terbuka atas gagasan mempertahankan Indonesia atas ancaman-ancaman baru.\"\\n\\nJadi menurut Anies, kuncinya adalah memiliki pemimpin yang beretika, menghargai ilmu pengetahuan, dan terbuka terhadap gagasan-gagasan baru untuk mempertahankan Indonesia.'"
      ]
     },
     "execution_count": 41,
     "metadata": {},
     "output_type": "execute_result"
    }
   ],
   "source": [
    "%%time\n",
    "\n",
    "claude_9 = query(\"claude\", prompt)\n",
    "claude_9"
   ]
  },
  {
   "cell_type": "code",
   "execution_count": 42,
   "id": "0bf27bc0-65e8-488c-b527-6526c1856c96",
   "metadata": {
    "tags": []
   },
   "outputs": [
    {
     "name": "stdout",
     "output_type": "stream",
     "text": [
      "CPU times: user 35.6 ms, sys: 4.63 ms, total: 40.2 ms\n",
      "Wall time: 13.9 s\n"
     ]
    },
    {
     "data": {
      "text/plain": [
       "'Menurut Anies, agar Indonesia kembali menjadi kekuatan yang disegani, ia menekankan pentingnya pemimpin yang menjunjung tinggi etika, ilmu pengetahuan, dan terbuka atas gagasan mempertahankan Indonesia dari ancaman-ancaman baru. Ia juga menyatakan bahwa sebagai Presiden, ia akan menjadi panglima diplomasi Indonesia di tingkat dunia, hadir mewarnai dan membawa nilai-nilai Indonesia ke forum internasional. Anies juga menekankan pentingnya perjuangan penghapusan penjajahan di muka bumi, termasuk di Palestina, melalui diplomasi yang serius dan terkoordinasi. Selain itu, ia ingin memastikan bahwa Indonesia hadir di berbagai wilayah dan pertemuan global dengan aspirasi yang kuat, mengirim pesan bahwa Indonesia tidak akan lagi absen dan akan dihormati selamanya.'"
      ]
     },
     "execution_count": 42,
     "metadata": {},
     "output_type": "execute_result"
    }
   ],
   "source": [
    "%%time\n",
    "\n",
    "gpt_9 = query(\"gpt4\", prompt)\n",
    "gpt_9"
   ]
  },
  {
   "cell_type": "markdown",
   "id": "6f0cfd53-198d-4265-ae50-d09272c11cef",
   "metadata": {},
   "source": [
    "### Trick questions"
   ]
  },
  {
   "cell_type": "code",
   "execution_count": 43,
   "id": "94b79d7d-f455-4697-be7b-ea3662dfe7e7",
   "metadata": {
    "tags": []
   },
   "outputs": [],
   "source": [
    "# Math reasoning\n",
    "\n",
    "prompt = \"Siapa yang memberi skor lebih tinggi untuk kinerja Kementrian Pertahanan, Anies atau Ganjar?\"\n",
    "# expected answer: Ganjar (5/10) is higher than Anies (11/100)"
   ]
  },
  {
   "cell_type": "code",
   "execution_count": 44,
   "id": "cc4a77c6-cad0-4808-9710-bf5ae1bdbd70",
   "metadata": {
    "tags": []
   },
   "outputs": [
    {
     "name": "stdout",
     "output_type": "stream",
     "text": [
      "CPU times: user 51.3 ms, sys: 6.32 ms, total: 57.6 ms\n",
      "Wall time: 29.9 s\n"
     ]
    },
    {
     "data": {
      "text/plain": [
       "' Berdasarkan transkrip debat calon presiden, yang memberi skor lebih tinggi untuk kinerja Kementerian Pertahanan adalah Ganjar Pranowo.\\n\\nDalam subsesi 5-1, Ganjar ditanya oleh Anies mengenai skor yang diberikan Ganjar untuk kinerja Kementerian Pertahanan. Ganjar menjawab memberikan skor \"Lima\" (transkrip subsesi 5-1):\\n\\n\"Ganjar: Lima juga. Saya punya datanya dan kemudian akan saya sampaikan, maka di meja saya sudah saya siapkan data satu persatu.\"\\n\\nSementara Anies menilai skor kinerja Kementerian Pertahanan lebih rendah, yaitu \"Sebelas dari seratus\" (transkrip subsesi 5-1):\\n\\n\"Anies: Sebelas mas, dari seratus.\"\\n\\nJadi Ganjar memberikan skor lebih tinggi yaitu 5, sedangkan Anies memberikan skor lebih rendah yaitu 11 dari skala 100.'"
      ]
     },
     "execution_count": 44,
     "metadata": {},
     "output_type": "execute_result"
    }
   ],
   "source": [
    "%%time\n",
    "\n",
    "claude_10 = query(\"claude\", prompt)\n",
    "claude_10"
   ]
  },
  {
   "cell_type": "code",
   "execution_count": 45,
   "id": "3ebb70a8-7e9d-4bb2-939b-1de0c512c5e7",
   "metadata": {
    "tags": []
   },
   "outputs": [
    {
     "name": "stdout",
     "output_type": "stream",
     "text": [
      "CPU times: user 30.7 ms, sys: 964 µs, total: 31.7 ms\n",
      "Wall time: 7.5 s\n"
     ]
    },
    {
     "data": {
      "text/plain": [
       "'Berdasarkan transkrip debat, Ganjar memberikan skor lebih tinggi untuk kinerja Kementerian Pertahanan dibandingkan dengan Anies. Ganjar memberikan skor lima, sedangkan Anies memberikan skor sebelas dari seratus.'"
      ]
     },
     "execution_count": 45,
     "metadata": {},
     "output_type": "execute_result"
    }
   ],
   "source": [
    "%%time\n",
    "\n",
    "gpt_10 = query(\"gpt4\", prompt)\n",
    "gpt_10"
   ]
  },
  {
   "cell_type": "code",
   "execution_count": 46,
   "id": "1d40b8bc-7a42-4d03-8b85-aa0a8968d737",
   "metadata": {
    "tags": []
   },
   "outputs": [],
   "source": [
    "# Unavailable information\n",
    "\n",
    "prompt = \"Bagaimana pandangan Ganjar tentang standar etika seorang pemimpin negara?\"\n",
    "# expected answer: no information available"
   ]
  },
  {
   "cell_type": "code",
   "execution_count": 47,
   "id": "9dec92bb-148f-48e7-a166-43a2071cd5be",
   "metadata": {
    "tags": []
   },
   "outputs": [
    {
     "name": "stdout",
     "output_type": "stream",
     "text": [
      "CPU times: user 46.7 ms, sys: 2.69 ms, total: 49.4 ms\n",
      "Wall time: 25.5 s\n"
     ]
    },
    {
     "data": {
      "text/plain": [
       "' Berdasarkan transkrip debat calon presiden, Ganjar tidak secara langsung menyampaikan pandangannya tentang standar etika seorang pemimpin negara. Namun, ketika Anies bertanya kepada Prabowo mengenai hubungan standar etika pemimpin negara dengan kemampuan menjaga pertahanan dan kedaulatan negara, Ganjar tidak memberikan tanggapan ataupun komentar terkait pertanyaan dan jawaban tersebut.'"
      ]
     },
     "execution_count": 47,
     "metadata": {},
     "output_type": "execute_result"
    }
   ],
   "source": [
    "%%time\n",
    "\n",
    "claude_11 = query(\"claude\", prompt)\n",
    "claude_11"
   ]
  },
  {
   "cell_type": "code",
   "execution_count": 48,
   "id": "a6095fa8-aba7-44be-b7fa-16fadc5b9948",
   "metadata": {
    "tags": []
   },
   "outputs": [
    {
     "name": "stdout",
     "output_type": "stream",
     "text": [
      "CPU times: user 38.3 ms, sys: 0 ns, total: 38.3 ms\n",
      "Wall time: 11.8 s\n"
     ]
    },
    {
     "data": {
      "text/plain": [
       "'Dalam transkrip debat yang disediakan, Ganjar tidak secara eksplisit menyampaikan pandangannya tentang standar etika seorang pemimpin negara. Namun, dari interaksi yang terjadi selama debat, dapat disimpulkan bahwa Ganjar menekankan pentingnya kepemimpinan yang berbasis pada data dan fakta yang akurat, serta pentingnya konsistensi dan keajegan dalam perencanaan, khususnya terkait dengan pertahanan dan keamanan negara. Ganjar juga menunjukkan sikap yang mendukung transparansi dan akuntabilitas, yang merupakan bagian dari etika kepemimpinan yang baik.'"
      ]
     },
     "execution_count": 48,
     "metadata": {},
     "output_type": "execute_result"
    }
   ],
   "source": [
    "%%time\n",
    "\n",
    "gpt_11 = query(\"gpt4\", prompt)\n",
    "gpt_11"
   ]
  },
  {
   "cell_type": "code",
   "execution_count": 49,
   "id": "33a62a11-2ca3-4839-948a-a3e1d7494fe7",
   "metadata": {
    "tags": []
   },
   "outputs": [],
   "source": [
    "# Unavailable information #2\n",
    "\n",
    "prompt = \"Siapa kandidat presiden yang suka sarapan kupat tahu?\"\n",
    "# expected answer: no information available"
   ]
  },
  {
   "cell_type": "code",
   "execution_count": 50,
   "id": "951d6f61-bf8f-4e7e-8181-2ac1cd1d1066",
   "metadata": {
    "tags": []
   },
   "outputs": [
    {
     "name": "stdout",
     "output_type": "stream",
     "text": [
      "CPU times: user 38.9 ms, sys: 8.48 ms, total: 47.4 ms\n",
      "Wall time: 24.4 s\n"
     ]
    },
    {
     "data": {
      "text/plain": [
       "' Maaf, di dalam transkrip debat calon presiden tersebut tidak disebutkan informasi mengenai kebiasaan sarapan masing-masing kandidat. Transkrip tersebut berfokus pada visi misi, program kerja, dan pandangan para kandidat terkait isu-isu strategis seperti pertahanan dan politik luar negeri.'"
      ]
     },
     "execution_count": 50,
     "metadata": {},
     "output_type": "execute_result"
    }
   ],
   "source": [
    "%%time\n",
    "\n",
    "claude_12 = query(\"claude\", prompt)\n",
    "claude_12"
   ]
  },
  {
   "cell_type": "code",
   "execution_count": 51,
   "id": "10fbb4ef-7300-40b1-b9df-c594a1011952",
   "metadata": {
    "tags": []
   },
   "outputs": [
    {
     "name": "stdout",
     "output_type": "stream",
     "text": [
      "CPU times: user 31.3 ms, sys: 851 µs, total: 32.2 ms\n",
      "Wall time: 7.92 s\n"
     ]
    },
    {
     "data": {
      "text/plain": [
       "'Maaf, informasi mengenai preferensi sarapan kandidat presiden tidak disebutkan dalam transkrip debat yang diberikan. Sebagai analis politik yang independen dan netral, saya hanya dapat memberikan informasi yang berkaitan dengan isi debat tersebut. Jika ada pertanyaan lain tentang debat atau isu politik yang terkait, saya akan berusaha menjawab berdasarkan transkrip yang ada.'"
      ]
     },
     "execution_count": 51,
     "metadata": {},
     "output_type": "execute_result"
    }
   ],
   "source": [
    "%%time\n",
    "\n",
    "gpt_12 = query(\"gpt4\", prompt)\n",
    "gpt_12"
   ]
  },
  {
   "cell_type": "code",
   "execution_count": 52,
   "id": "ec26ace1-4f9c-4235-873b-1b40bd797b10",
   "metadata": {
    "tags": []
   },
   "outputs": [],
   "source": [
    "# Topic unrelated to presidential debate\n",
    "\n",
    "prompt = \"Siapa saja nama kru bajak laut Luffy?\"\n",
    "# expected answer: unrelated topic, decline to answer"
   ]
  },
  {
   "cell_type": "code",
   "execution_count": 53,
   "id": "afa57004-0abb-44fa-af3f-e4bd0b85e8f2",
   "metadata": {
    "tags": []
   },
   "outputs": [
    {
     "name": "stdout",
     "output_type": "stream",
     "text": [
      "CPU times: user 51 ms, sys: 0 ns, total: 51 ms\n",
      "Wall time: 24.6 s\n"
     ]
    },
    {
     "data": {
      "text/plain": [
       "' Maaf, saya tidak dapat menjawab pertanyaan tentang kru bajak laut Luffy karena pertanyaan tersebut tidak terkait dengan debat calon presiden Indonesia yang menjadi referensi saya. Saya adalah analis politik independen dan netral yang ditugaskan untuk menjawab pertanyaan tentang debat calon presiden berdasarkan transkrip debat yang diberikan.'"
      ]
     },
     "execution_count": 53,
     "metadata": {},
     "output_type": "execute_result"
    }
   ],
   "source": [
    "%%time\n",
    "\n",
    "claude_13 = query(\"claude\", prompt)\n",
    "claude_13"
   ]
  },
  {
   "cell_type": "code",
   "execution_count": 54,
   "id": "8e3f026f-3a6b-4f6e-992f-9fcd58e27fec",
   "metadata": {
    "tags": []
   },
   "outputs": [
    {
     "name": "stdout",
     "output_type": "stream",
     "text": [
      "CPU times: user 32.5 ms, sys: 768 µs, total: 33.3 ms\n",
      "Wall time: 9.27 s\n"
     ]
    },
    {
     "data": {
      "text/plain": [
       "'Maaf, pertanyaan Anda tidak terkait dengan transkrip debat calon presiden Indonesia yang disediakan. Saya hanya dapat menjawab pertanyaan yang berkaitan dengan debat tersebut. Jika Anda memiliki pertanyaan tentang debat atau topik yang terkait dengan politik Indonesia, silakan bertanya dan saya akan berusaha menjawab berdasarkan informasi yang ada dalam transkrip.'"
      ]
     },
     "execution_count": 54,
     "metadata": {},
     "output_type": "execute_result"
    }
   ],
   "source": [
    "%%time\n",
    "\n",
    "gpt_13 = query(\"gpt4\", prompt)\n",
    "gpt_13"
   ]
  },
  {
   "cell_type": "markdown",
   "id": "a7c731b1-a1f4-4c59-a8a4-4d209077777b",
   "metadata": {},
   "source": [
    "## Reasoning"
   ]
  },
  {
   "cell_type": "code",
   "execution_count": 55,
   "id": "82cf2df3-364b-498d-8c70-9549f5a235d9",
   "metadata": {
    "tags": []
   },
   "outputs": [],
   "source": [
    "prompt = \"Berikan skor dari skala 1-100 untuk masing-masing kandidat, jelaskan alasannya, dan simpulkan siapa kandidat pemenang debat kali ini\""
   ]
  },
  {
   "cell_type": "code",
   "execution_count": 56,
   "id": "f85b6562-105b-4d28-b816-941f63e9bccb",
   "metadata": {
    "tags": []
   },
   "outputs": [
    {
     "name": "stdout",
     "output_type": "stream",
     "text": [
      "CPU times: user 72.5 ms, sys: 9.86 ms, total: 82.4 ms\n",
      "Wall time: 34.8 s\n"
     ]
    },
    {
     "data": {
      "text/plain": [
       "' Berdasarkan transkrip debat calon presiden, berikut adalah skor dan alasan untuk masing-masing kandidat:\\n\\nPrabowo Subianto: \\nSkor: 65\\nAlasan: \\n- Menunjukkan pemahaman yang baik tentang isu-isu pertahanan dan keamanan nasional. \\n- Mampu menjelaskan kebijakannya sebagai Menteri Pertahanan dengan argumentasi yang cukup kuat.\\n- Kurang detail dalam menjawab beberapa pertanyaan khususnya terkait capaian kinerja Kemhan.\\n\\nAnies Baswedan:\\nSkor: 70  \\nAlasan:\\n- Menunjukkan pemahaman yang mendalam tentang isu-isu aktual seperti ancaman siber.\\n- Konsisten menekankan pentingnya standar etika bagi pemimpin.\\n- Kurang rinci dalam menjelaskan solusi terhadap isu-isu yang dibahas.\\n\\nGanjar Pranowo:\\nSkor: 75\\nAlasan: \\n- Mampu mengajukan data dan fakta untuk mendukung argumennya.\\n- Menunjukkan gagasan-gagasan baru seperti Garda Samudra dan duta besar siber.\\n- Kurang tegas dalam membantah pernyataan lawan debat.\\n\\nKesimpulan:\\nBerdasarkan penilaian di atas, Ganjar Pranowo memiliki skor tertinggi 75. Oleh karena itu, beliau dapat dianggap sebagai pemenang debat calon presiden kali ini. Namun perbedaan skor ketiga kandidat tidak terlalu signifikan. Masing-masing menunjukkan keunggulan di bidang tertentu dalam debat ini.'"
      ]
     },
     "execution_count": 56,
     "metadata": {},
     "output_type": "execute_result"
    }
   ],
   "source": [
    "%%time\n",
    "\n",
    "claude_conc = query(\"claude\", prompt)\n",
    "claude_conc"
   ]
  },
  {
   "cell_type": "code",
   "execution_count": 57,
   "id": "2f18c3c0-f9fb-4223-8ae7-18ad94483639",
   "metadata": {
    "tags": []
   },
   "outputs": [
    {
     "name": "stdout",
     "output_type": "stream",
     "text": [
      "CPU times: user 90.5 ms, sys: 13.4 ms, total: 104 ms\n",
      "Wall time: 47.6 s\n"
     ]
    },
    {
     "data": {
      "text/plain": [
       "'Sebagai analis politik yang independen dan netral, saya akan memberikan skor berdasarkan beberapa kriteria yang umum digunakan dalam menilai performa debat, seperti kejelasan argumen, keefektifan komunikasi, pengetahuan tentang isu, sikap dan perilaku selama debat, serta kemampuan untuk merespons pertanyaan dan tanggapan dengan baik. Skor ini bersifat subjektif dan berdasarkan transkrip yang diberikan.\\n\\n1. Ganjar:\\n   - Kejelasan Argumen: 80\\n   - Keefektifan Komunikasi: 85\\n   - Pengetahuan tentang Isu: 90\\n   - Sikap dan Perilaku: 80\\n   - Respons terhadap Pertanyaan/Tanggapan: 85\\n   Rata-rata Skor: 84\\n\\n   Alasan: Ganjar menunjukkan pengetahuan yang baik tentang isu-isu pertahanan dan keamanan serta memiliki argumen yang jelas dan terstruktur. Dia juga efektif dalam menyampaikan pesan dan responsif terhadap pertanyaan dan tanggapan. Sikapnya selama debat cukup baik, meskipun ada beberapa momen di mana dia mungkin terlihat sedikit kurang tenang.\\n\\n2. Anies:\\n   - Kejelasan Argumen: 75\\n   - Keefektifan Komunikasi: 80\\n   - Pengetahuan tentang Isu: 85\\n   - Sikap dan Perilaku: 75\\n   - Respons terhadap Pertanyaan/Tanggapan: 80\\n   Rata-rata Skor: 79\\n\\n   Alasan: Anies memiliki keefektifan komunikasi yang baik dan cukup pengetahuan tentang isu yang dibahas. Namun, terkadang argumennya kurang jelas dan sikapnya dalam debat terkadang terlihat kurang tenang, terutama saat menanggapi pertanyaan atau tanggapan.\\n\\n3. Prabowo:\\n   - Kejelasan Argumen: 70\\n   - Keefektifan Komunikasi: 75\\n   - Pengetahuan tentang Isu: 80\\n   - Sikap dan Perilaku: 70\\n   - Respons terhadap Pertanyaan/Tanggapan: 75\\n   Rata-rata Skor: 74\\n\\n   Alasan: Prabowo menunjukkan pengetahuan yang cukup tentang isu, tetapi terkadang argumennya tidak sejelas yang lain. Komunikasinya efektif namun terkadang terlihat emosional, yang dapat mempengaruhi sikap dan perilakunya selama debat. Responsnya terhadap pertanyaan dan tanggapan juga kurang dibandingkan dengan kandidat lain.\\n\\nBerdasarkan skor rata-rata di atas, Ganjar dapat dianggap sebagai pemenang debat ini dengan skor tertinggi. Namun, perlu diingat bahwa penilaian ini sangat subjektif dan tergantung pada perspektif individu yang menilai. Penonton dan pemilih mungkin memiliki kriteria dan penilaian yang berbeda berdasarkan apa yang mereka anggap penting.'"
      ]
     },
     "execution_count": 57,
     "metadata": {},
     "output_type": "execute_result"
    }
   ],
   "source": [
    "%%time\n",
    "\n",
    "gpt_conc = query(\"gpt4\", prompt)\n",
    "gpt_conc"
   ]
  }
 ],
 "metadata": {
  "availableInstances": [
   {
    "_defaultOrder": 0,
    "_isFastLaunch": true,
    "category": "General purpose",
    "gpuNum": 0,
    "hideHardwareSpecs": false,
    "memoryGiB": 4,
    "name": "ml.t3.medium",
    "vcpuNum": 2
   },
   {
    "_defaultOrder": 1,
    "_isFastLaunch": false,
    "category": "General purpose",
    "gpuNum": 0,
    "hideHardwareSpecs": false,
    "memoryGiB": 8,
    "name": "ml.t3.large",
    "vcpuNum": 2
   },
   {
    "_defaultOrder": 2,
    "_isFastLaunch": false,
    "category": "General purpose",
    "gpuNum": 0,
    "hideHardwareSpecs": false,
    "memoryGiB": 16,
    "name": "ml.t3.xlarge",
    "vcpuNum": 4
   },
   {
    "_defaultOrder": 3,
    "_isFastLaunch": false,
    "category": "General purpose",
    "gpuNum": 0,
    "hideHardwareSpecs": false,
    "memoryGiB": 32,
    "name": "ml.t3.2xlarge",
    "vcpuNum": 8
   },
   {
    "_defaultOrder": 4,
    "_isFastLaunch": true,
    "category": "General purpose",
    "gpuNum": 0,
    "hideHardwareSpecs": false,
    "memoryGiB": 8,
    "name": "ml.m5.large",
    "vcpuNum": 2
   },
   {
    "_defaultOrder": 5,
    "_isFastLaunch": false,
    "category": "General purpose",
    "gpuNum": 0,
    "hideHardwareSpecs": false,
    "memoryGiB": 16,
    "name": "ml.m5.xlarge",
    "vcpuNum": 4
   },
   {
    "_defaultOrder": 6,
    "_isFastLaunch": false,
    "category": "General purpose",
    "gpuNum": 0,
    "hideHardwareSpecs": false,
    "memoryGiB": 32,
    "name": "ml.m5.2xlarge",
    "vcpuNum": 8
   },
   {
    "_defaultOrder": 7,
    "_isFastLaunch": false,
    "category": "General purpose",
    "gpuNum": 0,
    "hideHardwareSpecs": false,
    "memoryGiB": 64,
    "name": "ml.m5.4xlarge",
    "vcpuNum": 16
   },
   {
    "_defaultOrder": 8,
    "_isFastLaunch": false,
    "category": "General purpose",
    "gpuNum": 0,
    "hideHardwareSpecs": false,
    "memoryGiB": 128,
    "name": "ml.m5.8xlarge",
    "vcpuNum": 32
   },
   {
    "_defaultOrder": 9,
    "_isFastLaunch": false,
    "category": "General purpose",
    "gpuNum": 0,
    "hideHardwareSpecs": false,
    "memoryGiB": 192,
    "name": "ml.m5.12xlarge",
    "vcpuNum": 48
   },
   {
    "_defaultOrder": 10,
    "_isFastLaunch": false,
    "category": "General purpose",
    "gpuNum": 0,
    "hideHardwareSpecs": false,
    "memoryGiB": 256,
    "name": "ml.m5.16xlarge",
    "vcpuNum": 64
   },
   {
    "_defaultOrder": 11,
    "_isFastLaunch": false,
    "category": "General purpose",
    "gpuNum": 0,
    "hideHardwareSpecs": false,
    "memoryGiB": 384,
    "name": "ml.m5.24xlarge",
    "vcpuNum": 96
   },
   {
    "_defaultOrder": 12,
    "_isFastLaunch": false,
    "category": "General purpose",
    "gpuNum": 0,
    "hideHardwareSpecs": false,
    "memoryGiB": 8,
    "name": "ml.m5d.large",
    "vcpuNum": 2
   },
   {
    "_defaultOrder": 13,
    "_isFastLaunch": false,
    "category": "General purpose",
    "gpuNum": 0,
    "hideHardwareSpecs": false,
    "memoryGiB": 16,
    "name": "ml.m5d.xlarge",
    "vcpuNum": 4
   },
   {
    "_defaultOrder": 14,
    "_isFastLaunch": false,
    "category": "General purpose",
    "gpuNum": 0,
    "hideHardwareSpecs": false,
    "memoryGiB": 32,
    "name": "ml.m5d.2xlarge",
    "vcpuNum": 8
   },
   {
    "_defaultOrder": 15,
    "_isFastLaunch": false,
    "category": "General purpose",
    "gpuNum": 0,
    "hideHardwareSpecs": false,
    "memoryGiB": 64,
    "name": "ml.m5d.4xlarge",
    "vcpuNum": 16
   },
   {
    "_defaultOrder": 16,
    "_isFastLaunch": false,
    "category": "General purpose",
    "gpuNum": 0,
    "hideHardwareSpecs": false,
    "memoryGiB": 128,
    "name": "ml.m5d.8xlarge",
    "vcpuNum": 32
   },
   {
    "_defaultOrder": 17,
    "_isFastLaunch": false,
    "category": "General purpose",
    "gpuNum": 0,
    "hideHardwareSpecs": false,
    "memoryGiB": 192,
    "name": "ml.m5d.12xlarge",
    "vcpuNum": 48
   },
   {
    "_defaultOrder": 18,
    "_isFastLaunch": false,
    "category": "General purpose",
    "gpuNum": 0,
    "hideHardwareSpecs": false,
    "memoryGiB": 256,
    "name": "ml.m5d.16xlarge",
    "vcpuNum": 64
   },
   {
    "_defaultOrder": 19,
    "_isFastLaunch": false,
    "category": "General purpose",
    "gpuNum": 0,
    "hideHardwareSpecs": false,
    "memoryGiB": 384,
    "name": "ml.m5d.24xlarge",
    "vcpuNum": 96
   },
   {
    "_defaultOrder": 20,
    "_isFastLaunch": false,
    "category": "General purpose",
    "gpuNum": 0,
    "hideHardwareSpecs": true,
    "memoryGiB": 0,
    "name": "ml.geospatial.interactive",
    "supportedImageNames": [
     "sagemaker-geospatial-v1-0"
    ],
    "vcpuNum": 0
   },
   {
    "_defaultOrder": 21,
    "_isFastLaunch": true,
    "category": "Compute optimized",
    "gpuNum": 0,
    "hideHardwareSpecs": false,
    "memoryGiB": 4,
    "name": "ml.c5.large",
    "vcpuNum": 2
   },
   {
    "_defaultOrder": 22,
    "_isFastLaunch": false,
    "category": "Compute optimized",
    "gpuNum": 0,
    "hideHardwareSpecs": false,
    "memoryGiB": 8,
    "name": "ml.c5.xlarge",
    "vcpuNum": 4
   },
   {
    "_defaultOrder": 23,
    "_isFastLaunch": false,
    "category": "Compute optimized",
    "gpuNum": 0,
    "hideHardwareSpecs": false,
    "memoryGiB": 16,
    "name": "ml.c5.2xlarge",
    "vcpuNum": 8
   },
   {
    "_defaultOrder": 24,
    "_isFastLaunch": false,
    "category": "Compute optimized",
    "gpuNum": 0,
    "hideHardwareSpecs": false,
    "memoryGiB": 32,
    "name": "ml.c5.4xlarge",
    "vcpuNum": 16
   },
   {
    "_defaultOrder": 25,
    "_isFastLaunch": false,
    "category": "Compute optimized",
    "gpuNum": 0,
    "hideHardwareSpecs": false,
    "memoryGiB": 72,
    "name": "ml.c5.9xlarge",
    "vcpuNum": 36
   },
   {
    "_defaultOrder": 26,
    "_isFastLaunch": false,
    "category": "Compute optimized",
    "gpuNum": 0,
    "hideHardwareSpecs": false,
    "memoryGiB": 96,
    "name": "ml.c5.12xlarge",
    "vcpuNum": 48
   },
   {
    "_defaultOrder": 27,
    "_isFastLaunch": false,
    "category": "Compute optimized",
    "gpuNum": 0,
    "hideHardwareSpecs": false,
    "memoryGiB": 144,
    "name": "ml.c5.18xlarge",
    "vcpuNum": 72
   },
   {
    "_defaultOrder": 28,
    "_isFastLaunch": false,
    "category": "Compute optimized",
    "gpuNum": 0,
    "hideHardwareSpecs": false,
    "memoryGiB": 192,
    "name": "ml.c5.24xlarge",
    "vcpuNum": 96
   },
   {
    "_defaultOrder": 29,
    "_isFastLaunch": true,
    "category": "Accelerated computing",
    "gpuNum": 1,
    "hideHardwareSpecs": false,
    "memoryGiB": 16,
    "name": "ml.g4dn.xlarge",
    "vcpuNum": 4
   },
   {
    "_defaultOrder": 30,
    "_isFastLaunch": false,
    "category": "Accelerated computing",
    "gpuNum": 1,
    "hideHardwareSpecs": false,
    "memoryGiB": 32,
    "name": "ml.g4dn.2xlarge",
    "vcpuNum": 8
   },
   {
    "_defaultOrder": 31,
    "_isFastLaunch": false,
    "category": "Accelerated computing",
    "gpuNum": 1,
    "hideHardwareSpecs": false,
    "memoryGiB": 64,
    "name": "ml.g4dn.4xlarge",
    "vcpuNum": 16
   },
   {
    "_defaultOrder": 32,
    "_isFastLaunch": false,
    "category": "Accelerated computing",
    "gpuNum": 1,
    "hideHardwareSpecs": false,
    "memoryGiB": 128,
    "name": "ml.g4dn.8xlarge",
    "vcpuNum": 32
   },
   {
    "_defaultOrder": 33,
    "_isFastLaunch": false,
    "category": "Accelerated computing",
    "gpuNum": 4,
    "hideHardwareSpecs": false,
    "memoryGiB": 192,
    "name": "ml.g4dn.12xlarge",
    "vcpuNum": 48
   },
   {
    "_defaultOrder": 34,
    "_isFastLaunch": false,
    "category": "Accelerated computing",
    "gpuNum": 1,
    "hideHardwareSpecs": false,
    "memoryGiB": 256,
    "name": "ml.g4dn.16xlarge",
    "vcpuNum": 64
   },
   {
    "_defaultOrder": 35,
    "_isFastLaunch": false,
    "category": "Accelerated computing",
    "gpuNum": 1,
    "hideHardwareSpecs": false,
    "memoryGiB": 61,
    "name": "ml.p3.2xlarge",
    "vcpuNum": 8
   },
   {
    "_defaultOrder": 36,
    "_isFastLaunch": false,
    "category": "Accelerated computing",
    "gpuNum": 4,
    "hideHardwareSpecs": false,
    "memoryGiB": 244,
    "name": "ml.p3.8xlarge",
    "vcpuNum": 32
   },
   {
    "_defaultOrder": 37,
    "_isFastLaunch": false,
    "category": "Accelerated computing",
    "gpuNum": 8,
    "hideHardwareSpecs": false,
    "memoryGiB": 488,
    "name": "ml.p3.16xlarge",
    "vcpuNum": 64
   },
   {
    "_defaultOrder": 38,
    "_isFastLaunch": false,
    "category": "Accelerated computing",
    "gpuNum": 8,
    "hideHardwareSpecs": false,
    "memoryGiB": 768,
    "name": "ml.p3dn.24xlarge",
    "vcpuNum": 96
   },
   {
    "_defaultOrder": 39,
    "_isFastLaunch": false,
    "category": "Memory Optimized",
    "gpuNum": 0,
    "hideHardwareSpecs": false,
    "memoryGiB": 16,
    "name": "ml.r5.large",
    "vcpuNum": 2
   },
   {
    "_defaultOrder": 40,
    "_isFastLaunch": false,
    "category": "Memory Optimized",
    "gpuNum": 0,
    "hideHardwareSpecs": false,
    "memoryGiB": 32,
    "name": "ml.r5.xlarge",
    "vcpuNum": 4
   },
   {
    "_defaultOrder": 41,
    "_isFastLaunch": false,
    "category": "Memory Optimized",
    "gpuNum": 0,
    "hideHardwareSpecs": false,
    "memoryGiB": 64,
    "name": "ml.r5.2xlarge",
    "vcpuNum": 8
   },
   {
    "_defaultOrder": 42,
    "_isFastLaunch": false,
    "category": "Memory Optimized",
    "gpuNum": 0,
    "hideHardwareSpecs": false,
    "memoryGiB": 128,
    "name": "ml.r5.4xlarge",
    "vcpuNum": 16
   },
   {
    "_defaultOrder": 43,
    "_isFastLaunch": false,
    "category": "Memory Optimized",
    "gpuNum": 0,
    "hideHardwareSpecs": false,
    "memoryGiB": 256,
    "name": "ml.r5.8xlarge",
    "vcpuNum": 32
   },
   {
    "_defaultOrder": 44,
    "_isFastLaunch": false,
    "category": "Memory Optimized",
    "gpuNum": 0,
    "hideHardwareSpecs": false,
    "memoryGiB": 384,
    "name": "ml.r5.12xlarge",
    "vcpuNum": 48
   },
   {
    "_defaultOrder": 45,
    "_isFastLaunch": false,
    "category": "Memory Optimized",
    "gpuNum": 0,
    "hideHardwareSpecs": false,
    "memoryGiB": 512,
    "name": "ml.r5.16xlarge",
    "vcpuNum": 64
   },
   {
    "_defaultOrder": 46,
    "_isFastLaunch": false,
    "category": "Memory Optimized",
    "gpuNum": 0,
    "hideHardwareSpecs": false,
    "memoryGiB": 768,
    "name": "ml.r5.24xlarge",
    "vcpuNum": 96
   },
   {
    "_defaultOrder": 47,
    "_isFastLaunch": false,
    "category": "Accelerated computing",
    "gpuNum": 1,
    "hideHardwareSpecs": false,
    "memoryGiB": 16,
    "name": "ml.g5.xlarge",
    "vcpuNum": 4
   },
   {
    "_defaultOrder": 48,
    "_isFastLaunch": false,
    "category": "Accelerated computing",
    "gpuNum": 1,
    "hideHardwareSpecs": false,
    "memoryGiB": 32,
    "name": "ml.g5.2xlarge",
    "vcpuNum": 8
   },
   {
    "_defaultOrder": 49,
    "_isFastLaunch": false,
    "category": "Accelerated computing",
    "gpuNum": 1,
    "hideHardwareSpecs": false,
    "memoryGiB": 64,
    "name": "ml.g5.4xlarge",
    "vcpuNum": 16
   },
   {
    "_defaultOrder": 50,
    "_isFastLaunch": false,
    "category": "Accelerated computing",
    "gpuNum": 1,
    "hideHardwareSpecs": false,
    "memoryGiB": 128,
    "name": "ml.g5.8xlarge",
    "vcpuNum": 32
   },
   {
    "_defaultOrder": 51,
    "_isFastLaunch": false,
    "category": "Accelerated computing",
    "gpuNum": 1,
    "hideHardwareSpecs": false,
    "memoryGiB": 256,
    "name": "ml.g5.16xlarge",
    "vcpuNum": 64
   },
   {
    "_defaultOrder": 52,
    "_isFastLaunch": false,
    "category": "Accelerated computing",
    "gpuNum": 4,
    "hideHardwareSpecs": false,
    "memoryGiB": 192,
    "name": "ml.g5.12xlarge",
    "vcpuNum": 48
   },
   {
    "_defaultOrder": 53,
    "_isFastLaunch": false,
    "category": "Accelerated computing",
    "gpuNum": 4,
    "hideHardwareSpecs": false,
    "memoryGiB": 384,
    "name": "ml.g5.24xlarge",
    "vcpuNum": 96
   },
   {
    "_defaultOrder": 54,
    "_isFastLaunch": false,
    "category": "Accelerated computing",
    "gpuNum": 8,
    "hideHardwareSpecs": false,
    "memoryGiB": 768,
    "name": "ml.g5.48xlarge",
    "vcpuNum": 192
   },
   {
    "_defaultOrder": 55,
    "_isFastLaunch": false,
    "category": "Accelerated computing",
    "gpuNum": 8,
    "hideHardwareSpecs": false,
    "memoryGiB": 1152,
    "name": "ml.p4d.24xlarge",
    "vcpuNum": 96
   },
   {
    "_defaultOrder": 56,
    "_isFastLaunch": false,
    "category": "Accelerated computing",
    "gpuNum": 8,
    "hideHardwareSpecs": false,
    "memoryGiB": 1152,
    "name": "ml.p4de.24xlarge",
    "vcpuNum": 96
   },
   {
    "_defaultOrder": 57,
    "_isFastLaunch": false,
    "category": "Accelerated computing",
    "gpuNum": 0,
    "hideHardwareSpecs": false,
    "memoryGiB": 32,
    "name": "ml.trn1.2xlarge",
    "vcpuNum": 8
   },
   {
    "_defaultOrder": 58,
    "_isFastLaunch": false,
    "category": "Accelerated computing",
    "gpuNum": 0,
    "hideHardwareSpecs": false,
    "memoryGiB": 512,
    "name": "ml.trn1.32xlarge",
    "vcpuNum": 128
   },
   {
    "_defaultOrder": 59,
    "_isFastLaunch": false,
    "category": "Accelerated computing",
    "gpuNum": 0,
    "hideHardwareSpecs": false,
    "memoryGiB": 512,
    "name": "ml.trn1n.32xlarge",
    "vcpuNum": 128
   }
  ],
  "instance_type": "ml.t3.medium",
  "kernelspec": {
   "display_name": "Python 3 (Data Science 3.0)",
   "language": "python",
   "name": "python3__SAGEMAKER_INTERNAL__arn:aws:sagemaker:us-west-2:236514542706:image/sagemaker-data-science-310-v1"
  },
  "language_info": {
   "codemirror_mode": {
    "name": "ipython",
    "version": 3
   },
   "file_extension": ".py",
   "mimetype": "text/x-python",
   "name": "python",
   "nbconvert_exporter": "python",
   "pygments_lexer": "ipython3",
   "version": "3.10.6"
  }
 },
 "nbformat": 4,
 "nbformat_minor": 5
}
